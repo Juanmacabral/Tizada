{
 "cells": [
  {
   "cell_type": "code",
   "execution_count": 1,
   "id": "2177abc9",
   "metadata": {},
   "outputs": [],
   "source": [
    "import pandas as pd\n",
    "import openpyxl"
   ]
  },
  {
   "cell_type": "code",
   "execution_count": 2,
   "id": "69a7eebb",
   "metadata": {},
   "outputs": [
    {
     "name": "stdout",
     "output_type": "stream",
     "text": [
      "WARNING *** file size (10772352) not 512 + multiple of sector size (512)\n"
     ]
    }
   ],
   "source": [
    "tizada = pd.read_excel('Consulta Listado de Tizada.xls')"
   ]
  },
  {
   "cell_type": "code",
   "execution_count": 3,
   "id": "b3c07180",
   "metadata": {},
   "outputs": [],
   "source": [
    "tizada = tizada.iloc[1:-1, :] #Elimino primera y ultima fila\n",
    "tizada['Unnamed: 7'] = tizada['Unnamed: 7'].replace(['Descripcion'], ['Tela detalle'])\n",
    "tizada['Unnamed: 10'] = tizada['Unnamed: 10'].replace(['Corte'], ['Fecha'])\n",
    "tizada = tizada.rename(columns=tizada.iloc[0]).drop(tizada.index[0]) #Primera fila pasa a ser header \n",
    "tizada = tizada.drop(columns=['Familia']) #Elimino columnas que no necesito\n",
    "tizada['IdTela'] = tizada['IdTela'].fillna('Acomp') # Reemplazo nan por 'Acomp'\n",
    "temporadas = ['V22', 'I22', 'V23', 'I23'] \n",
    "tizadaPorTemporada = tizada.reindex(columns=['Orden', 'aux', 'aux 2', 'Producto', 'Descripcion', 'Temporada', 'Fecha', 'Color',\n",
    "                                 'IdTela', 'Tela' , 'Tela detalle', 'Tizada', 'Consumo', 'Cortado'])\n",
    "tizadaPorTemporada = tizadaPorTemporada.apply(lambda x: x.astype(str).str.strip() if x.dtype == \"object\" else x) #Quito espacios en blanco de las celdas\n",
    "tizadaPorTemporada = tizadaPorTemporada.loc[tizadaPorTemporada['Temporada'].isin(temporadas)]\n",
    "tizadaPorTemporada['aux'] = tizadaPorTemporada.groupby('Orden').cumcount() + 1\n",
    "tizadaPorTemporada['aux 2'] = tizadaPorTemporada['Orden'].astype(str) + tizadaPorTemporada['aux'].astype(str)\n",
    "tizadaPorTemporada[[\"Orden\", \"aux\", \"aux 2\"]] = tizadaPorTemporada[[\"Orden\", \"aux\", \"aux 2\"]].apply(pd.to_numeric, downcast=\"integer\")\n",
    "tizadaPorTemporada[[\"Tizada\", \"Consumo\", \"Cortado\"]] = tizadaPorTemporada[[\"Tizada\", \"Consumo\", \"Cortado\"]].apply(pd.to_numeric, downcast=\"float\")"
   ]
  },
  {
   "cell_type": "code",
   "execution_count": 4,
   "id": "a083f2f7-b27d-490a-a3f2-9c93512066b6",
   "metadata": {},
   "outputs": [],
   "source": [
    "with pd.ExcelWriter(r'\\\\NasConbra011\\Administra\\Reportes\\Tizada.xlsx') as writer:\n",
    "    tizadaPorTemporada.to_excel(writer, sheet_name='Tizada', index=False)"
   ]
  },
  {
   "cell_type": "code",
   "execution_count": null,
   "id": "621a71d2",
   "metadata": {},
   "outputs": [],
   "source": []
  }
 ],
 "metadata": {
  "kernelspec": {
   "display_name": "Python 3 (ipykernel)",
   "language": "python",
   "name": "python3"
  },
  "language_info": {
   "codemirror_mode": {
    "name": "ipython",
    "version": 3
   },
   "file_extension": ".py",
   "mimetype": "text/x-python",
   "name": "python",
   "nbconvert_exporter": "python",
   "pygments_lexer": "ipython3",
   "version": "3.11.0"
  }
 },
 "nbformat": 4,
 "nbformat_minor": 5
}
